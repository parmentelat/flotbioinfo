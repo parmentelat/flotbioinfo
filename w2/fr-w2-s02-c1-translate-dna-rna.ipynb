{
 "cells": [
  {
   "cell_type": "markdown",
   "metadata": {},
   "source": [
    "<div class=\"licence\">\n",
    "<span>Licence CC BY-NC-ND</span>\n",
    "<span>François Rechenmann &amp; Thierry Parmentelat</span>\n",
    "<span><img src=\"media/inria-25-alpha.png\" /></span>\n",
    "</div>"
   ]
  },
  {
   "cell_type": "markdown",
   "metadata": {},
   "source": [
    "# Transcription d'ADN en ARN"
   ]
  },
  {
   "cell_type": "markdown",
   "metadata": {},
   "source": [
    "Dans ce complément nous allons implémenter l'algorithme très simple qui consiste à traduire un brin d'ADN dans le brin d'ARN correspondant."
   ]
  },
  {
   "cell_type": "markdown",
   "metadata": {},
   "source": [
    "### L'algorithme"
   ]
  },
  {
   "cell_type": "markdown",
   "metadata": {},
   "source": [
    "Ce traitement est évidemment très simple; une première version naïve consiste à créer une chaîne vide, et à la remplir au fur et à mesure. Pour faire cela nous allons utiliser l'opérateur `+` sur les chaînes, qui permet de créer une nouvelle chaîne comme on le voit ici&nbsp;:"
   ]
  },
  {
   "cell_type": "code",
   "execution_count": null,
   "metadata": {},
   "outputs": [],
   "source": [
    "# à partir de deux chaines\n",
    "ch1 = \"abc\"\n",
    "ch2 = \"def\"\n",
    "# en faisant + on obtient la concaténation des deux chaines\n",
    "concatenated = ch1 + ch2\n",
    "print(concatenated)"
   ]
  },
  {
   "cell_type": "code",
   "execution_count": null,
   "metadata": {},
   "outputs": [],
   "source": [
    "# remarquez que les deux chaines de départ sont intactes\n",
    "print(\"ch1:\", ch1, \"ch2:\", ch2)"
   ]
  },
  {
   "cell_type": "markdown",
   "metadata": {},
   "source": [
    "Notez également que Python propose un raccourci `+=` qui se comporte comme ceci&nbsp;:"
   ]
  },
  {
   "cell_type": "code",
   "execution_count": null,
   "metadata": {},
   "outputs": [],
   "source": [
    "# en partant d'une chaine\n",
    "string = \"ATGC\"\n",
    "# on peut facilement y ajouter à la fin\n",
    "string += \"CGAT\"\n",
    "# maintenant string contient les deux morceaux \n",
    "print(string)"
   ]
  },
  {
   "cell_type": "markdown",
   "metadata": {},
   "source": [
    "Grâce à cette opération de concaténation sur les chaines on peut procéder simplement comme ceci&nbsp;:"
   ]
  },
  {
   "cell_type": "code",
   "execution_count": null,
   "metadata": {},
   "outputs": [],
   "source": [
    "def translate_dna_to_rna(dna):\n",
    "    \"\"\"\"\n",
    "    Traduit un brin d'ADN en ARN en remplaçant toutes\n",
    "    les occurrences de T en U\n",
    "    \"\"\"\n",
    "    rna = \"\"\n",
    "    for nucleo in dna:\n",
    "        # traduire une Thymine en Uracile\n",
    "        if nucleo == 'T':\n",
    "            rna += \"U\"\n",
    "        else:\n",
    "            rna += nucleo\n",
    "    return rna"
   ]
  },
  {
   "cell_type": "markdown",
   "metadata": {},
   "source": [
    "Ainsi par exemple&nbsp;:"
   ]
  },
  {
   "cell_type": "code",
   "execution_count": null,
   "metadata": {},
   "outputs": [],
   "source": [
    "dna = \"ATTCGATCGGGTATTACG\"\n",
    "rna = translate_dna_to_rna(dna)\n",
    "print(rna)"
   ]
  },
  {
   "cell_type": "markdown",
   "metadata": {},
   "source": [
    "### Mesures de performance (avancé)"
   ]
  },
  {
   "cell_type": "markdown",
   "metadata": {},
   "source": [
    "Cette section est optionnelle et s'adresse à ceux d'entre vous qui ont des notions de Python un peu plus développées que ce que nous avons pu couvrir jusqu'ici. \n",
    "\n",
    "J'attire votre attention sur le module `timeit` qui permet de mesurer les performances d'un fragment de code. Par exemple pour voir le temps que prend cette fonction de traduction nous pourrions écrire&nbsp;:"
   ]
  },
  {
   "cell_type": "code",
   "execution_count": null,
   "metadata": {},
   "outputs": [],
   "source": [
    "# importer le module timeit qui fait des mesures de performance\n",
    "import timeit\n",
    "\n",
    "# un échantillon un peu gros : 400 000 nucléotides\n",
    "big_dna = 10**5 * 'ACGT' \n",
    "\n",
    "print(timeit.timeit('translate_dna_to_rna(big_dna)', \n",
    "                    \"from __main__ import translate_dna_to_rna, big_dna\",\n",
    "                    number=10))\n"
   ]
  },
  {
   "cell_type": "markdown",
   "metadata": {},
   "source": [
    "Ce qui dans mon environnement imprime de l'ordre de `0.5` (en secondes), qui nous dit que pour évaluer 10 fois (c'est le propos de `number=10`) l'appel à `translate_dna_to_rna(big_dna)`, l'interpréteur prend environ une demi-seconde.\n",
    "\n",
    "Le deuxième argument à `timeit`, dans notre cas `from __main__ import translate_dna_to_rna, big_dna`, permet de rendre les deux identificateurs dont nous avons besoin (la fonction et l'échantillon) visibles à `timeit`. "
   ]
  }
 ],
 "metadata": {
  "kernelspec": {
   "display_name": "Python 3",
   "language": "python",
   "name": "python3"
  },
  "language_info": {
   "codemirror_mode": {
    "name": "ipython",
    "version": 3
   },
   "file_extension": ".py",
   "mimetype": "text/x-python",
   "name": "python",
   "nbconvert_exporter": "python",
   "pygments_lexer": "ipython3",
   "version": "3.7.0"
  },
  "notebookname": "Traduction d'ADN en ARN",
  "version": "1.0"
 },
 "nbformat": 4,
 "nbformat_minor": 1
}
